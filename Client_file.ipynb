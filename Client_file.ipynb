{
 "cells": [
  {
   "cell_type": "code",
   "execution_count": 23,
   "metadata": {},
   "outputs": [],
   "source": [
    "import pandas as pd\n",
    "import sklearn\n",
    "import random\n",
    "from sklearn import preprocessing\n",
    "from sklearn.model_selection import train_test_split\n",
    "from sklearn.tree import DecisionTreeClassifier\n",
    "from sklearn.ensemble import RandomForestClassifier\n",
    "from sklearn.svm import SVC\n",
    "from sklearn import metrics\n"
   ]
  },
  {
   "cell_type": "code",
   "execution_count": 12,
   "metadata": {},
   "outputs": [],
   "source": [
    "import matplotlib.pyplot as plt\n",
    "%matplotlib inline\n",
    "import seaborn as sns\n",
    "sns.set_style('whitegrid')"
   ]
  },
  {
   "cell_type": "code",
   "execution_count": 18,
   "metadata": {},
   "outputs": [],
   "source": [
    "le = preprocessing.LabelEncoder()\n",
    "random.seed(42)\n",
    "file_read = pd.read_csv('datafile_new1.csv')"
   ]
  },
  {
   "cell_type": "code",
   "execution_count": 19,
   "metadata": {},
   "outputs": [
    {
     "data": {
      "text/html": [
       "<div>\n",
       "<style scoped>\n",
       "    .dataframe tbody tr th:only-of-type {\n",
       "        vertical-align: middle;\n",
       "    }\n",
       "\n",
       "    .dataframe tbody tr th {\n",
       "        vertical-align: top;\n",
       "    }\n",
       "\n",
       "    .dataframe thead th {\n",
       "        text-align: right;\n",
       "    }\n",
       "</style>\n",
       "<table border=\"1\" class=\"dataframe\">\n",
       "  <thead>\n",
       "    <tr style=\"text-align: right;\">\n",
       "      <th></th>\n",
       "      <th>Termid</th>\n",
       "      <th>Regd_No</th>\n",
       "      <th>Course</th>\n",
       "      <th>Grade</th>\n",
       "      <th>CA_100</th>\n",
       "      <th>MTT_50</th>\n",
       "      <th>ETT_100</th>\n",
       "      <th>ETP_100</th>\n",
       "      <th>Course_Att</th>\n",
       "      <th>MHRDName</th>\n",
       "      <th>...</th>\n",
       "      <th>CA_3</th>\n",
       "      <th>CA_4</th>\n",
       "      <th>Height</th>\n",
       "      <th>Weight</th>\n",
       "      <th>ScholarType</th>\n",
       "      <th>Direction</th>\n",
       "      <th>Gender</th>\n",
       "      <th>Medium</th>\n",
       "      <th>CourseType</th>\n",
       "      <th>ProgramType</th>\n",
       "    </tr>\n",
       "  </thead>\n",
       "  <tbody>\n",
       "    <tr>\n",
       "      <th>0</th>\n",
       "      <td>418192</td>\n",
       "      <td>4961776</td>\n",
       "      <td>FYZ1785</td>\n",
       "      <td>B+</td>\n",
       "      <td>77</td>\n",
       "      <td>NaN</td>\n",
       "      <td>NaN</td>\n",
       "      <td>61.0</td>\n",
       "      <td>NaN</td>\n",
       "      <td>Integrated Bachelor of Science - Master of Sci...</td>\n",
       "      <td>...</td>\n",
       "      <td>29</td>\n",
       "      <td>37</td>\n",
       "      <td>161</td>\n",
       "      <td>84</td>\n",
       "      <td>Hostler</td>\n",
       "      <td>East</td>\n",
       "      <td>Male</td>\n",
       "      <td>Regional</td>\n",
       "      <td>Theory</td>\n",
       "      <td>UG</td>\n",
       "    </tr>\n",
       "    <tr>\n",
       "      <th>1</th>\n",
       "      <td>418192</td>\n",
       "      <td>4961776</td>\n",
       "      <td>FYZ1786</td>\n",
       "      <td>A</td>\n",
       "      <td>89</td>\n",
       "      <td>NaN</td>\n",
       "      <td>68.0</td>\n",
       "      <td>NaN</td>\n",
       "      <td>78.0</td>\n",
       "      <td>Integrated Bachelor of Science - Master of Sci...</td>\n",
       "      <td>...</td>\n",
       "      <td>19</td>\n",
       "      <td>11</td>\n",
       "      <td>161</td>\n",
       "      <td>84</td>\n",
       "      <td>Hostler</td>\n",
       "      <td>East</td>\n",
       "      <td>Male</td>\n",
       "      <td>Regional</td>\n",
       "      <td>Theory</td>\n",
       "      <td>UG</td>\n",
       "    </tr>\n",
       "    <tr>\n",
       "      <th>2</th>\n",
       "      <td>418192</td>\n",
       "      <td>4961776</td>\n",
       "      <td>FYZ1787</td>\n",
       "      <td>A+</td>\n",
       "      <td>83</td>\n",
       "      <td>NaN</td>\n",
       "      <td>NaN</td>\n",
       "      <td>NaN</td>\n",
       "      <td>NaN</td>\n",
       "      <td>Integrated Bachelor of Science - Master of Sci...</td>\n",
       "      <td>...</td>\n",
       "      <td>17</td>\n",
       "      <td>3</td>\n",
       "      <td>161</td>\n",
       "      <td>84</td>\n",
       "      <td>Hostler</td>\n",
       "      <td>East</td>\n",
       "      <td>Male</td>\n",
       "      <td>Regional</td>\n",
       "      <td>Theory</td>\n",
       "      <td>UG</td>\n",
       "    </tr>\n",
       "    <tr>\n",
       "      <th>3</th>\n",
       "      <td>418192</td>\n",
       "      <td>8337776</td>\n",
       "      <td>FYZ1785</td>\n",
       "      <td>B+</td>\n",
       "      <td>74</td>\n",
       "      <td>NaN</td>\n",
       "      <td>NaN</td>\n",
       "      <td>78.0</td>\n",
       "      <td>NaN</td>\n",
       "      <td>Integrated Bachelor of Science - Master of Sci...</td>\n",
       "      <td>...</td>\n",
       "      <td>0</td>\n",
       "      <td>2</td>\n",
       "      <td>179</td>\n",
       "      <td>60</td>\n",
       "      <td>Day Scholar</td>\n",
       "      <td>East</td>\n",
       "      <td>Male</td>\n",
       "      <td>Hindi</td>\n",
       "      <td>Theory</td>\n",
       "      <td>UG</td>\n",
       "    </tr>\n",
       "    <tr>\n",
       "      <th>4</th>\n",
       "      <td>418192</td>\n",
       "      <td>8337776</td>\n",
       "      <td>FYZ1786</td>\n",
       "      <td>C</td>\n",
       "      <td>49</td>\n",
       "      <td>NaN</td>\n",
       "      <td>52.0</td>\n",
       "      <td>NaN</td>\n",
       "      <td>70.0</td>\n",
       "      <td>Integrated Bachelor of Science - Master of Sci...</td>\n",
       "      <td>...</td>\n",
       "      <td>2</td>\n",
       "      <td>8</td>\n",
       "      <td>179</td>\n",
       "      <td>60</td>\n",
       "      <td>Day Scholar</td>\n",
       "      <td>East</td>\n",
       "      <td>Male</td>\n",
       "      <td>Hindi</td>\n",
       "      <td>Theory</td>\n",
       "      <td>UG</td>\n",
       "    </tr>\n",
       "  </tbody>\n",
       "</table>\n",
       "<p>5 rows × 22 columns</p>\n",
       "</div>"
      ],
      "text/plain": [
       "   Termid  Regd_No   Course Grade  CA_100  MTT_50  ETT_100  ETP_100  \\\n",
       "0  418192  4961776  FYZ1785    B+      77     NaN      NaN     61.0   \n",
       "1  418192  4961776  FYZ1786     A      89     NaN     68.0      NaN   \n",
       "2  418192  4961776  FYZ1787    A+      83     NaN      NaN      NaN   \n",
       "3  418192  8337776  FYZ1785    B+      74     NaN      NaN     78.0   \n",
       "4  418192  8337776  FYZ1786     C      49     NaN     52.0      NaN   \n",
       "\n",
       "   Course_Att                                           MHRDName     ...      \\\n",
       "0         NaN  Integrated Bachelor of Science - Master of Sci...     ...       \n",
       "1        78.0  Integrated Bachelor of Science - Master of Sci...     ...       \n",
       "2         NaN  Integrated Bachelor of Science - Master of Sci...     ...       \n",
       "3         NaN  Integrated Bachelor of Science - Master of Sci...     ...       \n",
       "4        70.0  Integrated Bachelor of Science - Master of Sci...     ...       \n",
       "\n",
       "   CA_3  CA_4  Height  Weight  ScholarType  Direction Gender    Medium  \\\n",
       "0    29    37     161      84      Hostler       East   Male  Regional   \n",
       "1    19    11     161      84      Hostler       East   Male  Regional   \n",
       "2    17     3     161      84      Hostler       East   Male  Regional   \n",
       "3     0     2     179      60  Day Scholar       East   Male     Hindi   \n",
       "4     2     8     179      60  Day Scholar       East   Male     Hindi   \n",
       "\n",
       "  CourseType ProgramType  \n",
       "0     Theory          UG  \n",
       "1     Theory          UG  \n",
       "2     Theory          UG  \n",
       "3     Theory          UG  \n",
       "4     Theory          UG  \n",
       "\n",
       "[5 rows x 22 columns]"
      ]
     },
     "execution_count": 19,
     "metadata": {},
     "output_type": "execute_result"
    }
   ],
   "source": [
    "file_read.head()"
   ]
  },
  {
   "cell_type": "code",
   "execution_count": 14,
   "metadata": {},
   "outputs": [],
   "source": [
    "# calculate the unique values in the columns except target\n",
    "unique_values_Termid = file_read.Termid.unique()\n",
    "unique_values_Regd = file_read.Regd_No.unique()\n",
    "unique_values_Course = file_read.Course.unique()\n",
    "unique_values_CA_100 =  file_read.CA_100.unique()\n",
    "unique_values_MTT_50 = file_read.MTT_50.unique()\n",
    "unique_values_ETT_100 = file_read.ETP_100.unique()\n",
    "unique_values_Course_Att = file_read.Course_Att.unique()\n",
    "unique_values_MHRDName = file_read.MHRDName.unique()\n",
    "unique_values_CA_1 = file_read.CA_1.unique()\n",
    "unique_values_CA_2 = file_read.CA_2.unique()\n",
    "unique_values_CA_3 = file_read.CA_3.unique()\n",
    "unique_values_CA_4 = file_read.CA_4.unique()\n",
    "unique_values_Height = file_read.Height.unique()\n",
    "unique_values_Weight = file_read.Weight.unique()\n",
    "unique_values_ScholarType = file_read.ScholarType.unique()\n",
    "unique_values_Gender = file_read.Gender.unique()\n",
    "unique_values_Medium = file_read.Medium.unique()\n",
    "unique_values_CourseType = file_read.CourseType.unique()\n",
    "unique_values_ProgramType = file_read.ProgramType.unique()\n"
   ]
  },
  {
   "cell_type": "code",
   "execution_count": 16,
   "metadata": {},
   "outputs": [],
   "source": [
    "# Calculating unique values for the target data\n",
    "unique_values_Grade = file_read.Grade.unique()"
   ]
  },
  {
   "cell_type": "code",
   "execution_count": 17,
   "metadata": {},
   "outputs": [
    {
     "data": {
      "text/plain": [
       "array(['B+', 'A', 'A+', 'C'], dtype=object)"
      ]
     },
     "execution_count": 17,
     "metadata": {},
     "output_type": "execute_result"
    }
   ],
   "source": [
    "unique_values_Grade"
   ]
  },
  {
   "cell_type": "code",
   "execution_count": 20,
   "metadata": {},
   "outputs": [
    {
     "data": {
      "text/plain": [
       "Text(0,0.5,'Number of Student')"
      ]
     },
     "execution_count": 20,
     "metadata": {},
     "output_type": "execute_result"
    },
    {
     "data": {
      "image/png": "[encoded data removed]",
      "text/plain": [
       "<Figure size 576x432 with 1 Axes>"
      ]
     },
     "metadata": {},
     "output_type": "display_data"
    }
   ],
   "source": [
    "\n",
    "# Final Grade Countplot\n",
    "plt.figure(figsize=(8,6))\n",
    "sns.countplot(file_read.Grade, order=['B+', 'A', 'A+', 'C'], palette='Set1')\n",
    "plt.title('Final Grade - Number of Students',fontsize=20)\n",
    "plt.xlabel('Final Grade', fontsize=16)\n",
    "plt.ylabel('Number of Student', fontsize=16)"
   ]
  },
  {
   "cell_type": "code",
   "execution_count": 21,
   "metadata": {},
   "outputs": [
    {
     "data": {
      "text/plain": [
       "'\\nTermid is dropped because it has same value\\nSo it will not be any impact on training\\n'"
      ]
     },
     "execution_count": 21,
     "metadata": {},
     "output_type": "execute_result"
    }
   ],
   "source": [
    "# 1.) Preprocessing predictors values\n",
    "copy_dataframe = file_read\n",
    "# finding missing values from the dataset\n",
    "# print(copy_dataframe.isna().sum())\n",
    "# there are four columns where there are missing values and these are\n",
    "\"\"\" \n",
    "A.) MTT_50\n",
    "B.) ETT_100\n",
    "C.) ETP_100\n",
    "d.) Course_Att\n",
    "\"\"\"   \n",
    "\n",
    "# 1.a) preprocessing MTT_50\n",
    "# Since there is no values in MTT_50 hence this column is dropped\n",
    "copy_dataframe = copy_dataframe.drop(columns = ['MTT_50'])\n",
    "# 1.b) preprocessing ETT_100\n",
    "mean_ETT_100 = copy_dataframe['ETT_100'].mean(skipna = True)\n",
    "# replacing not filled values in the column ETT_100 with the mean value\n",
    "copy_dataframe['ETT_100'].fillna(mean_ETT_100, inplace = True)\n",
    "# print(copy_dataframe)\n",
    "# 1.c) preprocessing ETP_100\n",
    "mean_ETP_100 = copy_dataframe['ETP_100'].mean(skipna = True)\n",
    "# replacing not filled values in the column ETT_100 with the mean value\n",
    "copy_dataframe['ETP_100'].fillna(mean_ETP_100, inplace = True)\n",
    "# 1.d) preprocessing Course_Att\n",
    "mean_Course_Att = copy_dataframe['Course_Att'].mean(skipna = True)\n",
    "# replacing not filled values in the column Course_Att with the mean value\n",
    "copy_dataframe['Course_Att'].fillna(mean_Course_Att, inplace = True)\n",
    "\n",
    "\"\"\"\n",
    "There are some columns which has string value\n",
    "String value needs to be converted into integer\n",
    "LabelEncoder will be used for this purpose\n",
    "\"\"\"\n",
    "copy_dataframe.MHRDName = le.fit_transform(copy_dataframe.MHRDName)\n",
    "copy_dataframe.ScholarType = le.fit_transform(copy_dataframe.ScholarType)\n",
    "copy_dataframe.Direction = le.fit_transform(copy_dataframe.Direction)\n",
    "copy_dataframe.Course = le.fit_transform(copy_dataframe.Course)\n",
    "copy_dataframe.Gender = le.fit_transform(copy_dataframe.Gender)\n",
    "copy_dataframe.CourseType = le.fit_transform(copy_dataframe.CourseType)\n",
    "copy_dataframe.ProgramType = le.fit_transform(copy_dataframe.ProgramType)\n",
    "copy_dataframe.Medium = le.fit_transform(copy_dataframe.Medium)\n",
    "copy_dataframe.Grade = le.fit_transform(copy_dataframe.Grade)\n",
    "\n",
    "\"\"\"\n",
    "Next step is to dplit dataset into\n",
    "Predictors Variables\n",
    "Target Variables\n",
    "By Convention Predictors Variables are denoted by X\n",
    "Target Variable by y\n",
    "\"\"\"\n",
    "df = copy_dataframe\n",
    "\"\"\"\n",
    "Termid is dropped because it has same value\n",
    "So it will not be any impact on training\n",
    "\"\"\""
   ]
  },
  {
   "cell_type": "code",
   "execution_count": 22,
   "metadata": {},
   "outputs": [
    {
     "name": "stdout",
     "output_type": "stream",
     "text": [
      "Shape of training data: (8, 19)\n",
      "Shape of training data: (4, 19)\n",
      "Shape of training data: (8,)\n",
      "Shape of training data: (4,)\n",
      "Accuracy of Decision tree is 0.75\n",
      "Accuracy of Random Forest is 0.5\n",
      "SVC Model Score : 1.0 , Cross Validation Score : 0.5\n"
     ]
    }
   ],
   "source": [
    "X = df.drop(['Grade','Termid'], axis=1)\n",
    "y = copy_dataframe['Grade']\n",
    "\n",
    "\"\"\"\n",
    "Both X and y is in form of dataframe\n",
    "Conversion of df into numpy array\n",
    "\"\"\"\n",
    "X = X.values\n",
    "y = y.values\n",
    "X_train, X_test, y_train, y_test=train_test_split(X, y, test_size=0.3)\n",
    "\"\"\"\n",
    "training data: This is the data with which machine will get trained\n",
    "testing data: This is the data with which prediction will be done\n",
    "y_training: Training targets/labels which are grade in this case\n",
    "y_testing: Testing labels\n",
    "\"\"\"\n",
    "print(\"Shape of training data:\", X_train.shape)\n",
    "print(\"Shape of training data:\", X_test.shape)\n",
    "print(\"Shape of training data:\", y_train.shape)\n",
    "print(\"Shape of training data:\", y_test.shape)\n",
    "\n",
    "# Training and Calculating Score using Decision Tree\n",
    "tree = DecisionTreeClassifier()\n",
    "t= tree.fit(X_train, y_train)\n",
    "ts=t.score(X_test, y_test)\n",
    "print(\"Accuracy of Decision tree is {}\".format(ts))\n",
    "# Training and Calculating Score using Random Forest Classifier\n",
    "forest = RandomForestClassifier()\n",
    "f = forest.fit(X_train, y_train)\n",
    "fs = f.score(X_test, y_test)\n",
    "print(\"Accuracy of Random Forest is {}\".format(fs))\n",
    "# Training and Calculating Score using Random Forest Classifier\n",
    "svc = SVC()\n",
    "s= svc.fit(X_train, y_train)\n",
    "print(\"SVC Model Score\" , \":\" , s.score(X_train, y_train) , \",\" ,\n",
    "      \"Cross Validation Score\" ,\":\" , s.score(X_test, y_test))"
   ]
  },
  {
   "cell_type": "markdown",
   "metadata": {},
   "source": [
    "## Creating the confusion matric for best model i.e SVC"
   ]
  },
  {
   "cell_type": "code",
   "execution_count": 26,
   "metadata": {},
   "outputs": [],
   "source": [
    "y_pred_svc = s.predict(X_test)"
   ]
  },
  {
   "cell_type": "code",
   "execution_count": 27,
   "metadata": {},
   "outputs": [
    {
     "data": {
      "text/plain": [
       "array([1, 0, 1, 0], dtype=int64)"
      ]
     },
     "execution_count": 27,
     "metadata": {},
     "output_type": "execute_result"
    }
   ],
   "source": [
    "y_pred_svc"
   ]
  },
  {
   "cell_type": "code",
   "execution_count": 28,
   "metadata": {},
   "outputs": [
    {
     "name": "stdout",
     "output_type": "stream",
     "text": [
      "[[0 0 0 0]\n",
      " [1 2 0 0]\n",
      " [1 0 0 0]\n",
      " [0 0 0 0]]\n"
     ]
    }
   ],
   "source": [
    "print(metrics.confusion_matrix(y_test, y_pred_svc, labels=[0, 1, 2, 3]))\n"
   ]
  },
  {
   "cell_type": "code",
   "execution_count": 29,
   "metadata": {},
   "outputs": [
    {
     "name": "stdout",
     "output_type": "stream",
     "text": [
      "             precision    recall  f1-score   support\n",
      "\n",
      "          0       0.00      0.00      0.00         0\n",
      "          1       1.00      0.67      0.80         3\n",
      "          2       0.00      0.00      0.00         1\n",
      "          3       0.00      0.00      0.00         0\n",
      "\n",
      "avg / total       0.75      0.50      0.60         4\n",
      "\n"
     ]
    },
    {
     "name": "stderr",
     "output_type": "stream",
     "text": [
      "c:\\python 3.5\\lib\\site-packages\\sklearn\\metrics\\classification.py:1135: UndefinedMetricWarning: Precision and F-score are ill-defined and being set to 0.0 in labels with no predicted samples.\n",
      "  'precision', 'predicted', average, warn_for)\n",
      "c:\\python 3.5\\lib\\site-packages\\sklearn\\metrics\\classification.py:1137: UndefinedMetricWarning: Recall and F-score are ill-defined and being set to 0.0 in labels with no true samples.\n",
      "  'recall', 'true', average, warn_for)\n"
     ]
    }
   ],
   "source": [
    "print(metrics.classification_report(y_test, y_pred_svc, labels=[0, 1, 2, 3]))"
   ]
  },
  {
   "cell_type": "code",
   "execution_count": null,
   "metadata": {},
   "outputs": [],
   "source": []
  }
 ],
 "metadata": {
  "kernelspec": {
   "display_name": "Python 3",
   "language": "python",
   "name": "python3"
  },
  "language_info": {
   "codemirror_mode": {
    "name": "ipython",
    "version": 3
   },
   "file_extension": ".py",
   "mimetype": "text/x-python",
   "name": "python",
   "nbconvert_exporter": "python",
   "pygments_lexer": "ipython3",
   "version": "3.5.4"
  }
 },
 "nbformat": 4,
 "nbformat_minor": 4
}
